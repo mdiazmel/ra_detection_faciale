{
 "cells": [
  {
   "cell_type": "markdown",
   "metadata": {},
   "source": [
    "Réalité augmentée et détection faciale\n",
    "==================================================\n",
    "\n",
    "\n",
    "# Part 1. Introduction\n",
    "\n",
    "* Définition du problème\n",
    "\n",
    "  ** Réalité augmentée et détection faciale **\n",
    "\n",
    "  ** Objectif: ** appliquer de filtres pour modifier un (plusieurs) visages \n",
    "  sur un flux de vidéo.\n",
    "  \n",
    "\n",
    "<img src=\"./img/faces.jpg\" />\n",
    "\n",
    "* Outils et langage de programmation :\n",
    "  \n",
    "  + Système d'exploitation\n",
    "    - Linux\n",
    "    - OsX (Mac)\n",
    "    - Windows\n",
    "  + Langage de progammation\n",
    "    - Matlab\n",
    "    - ***Pyhton***\n",
    "    - C/C++\n",
    "    - Autre\n",
    "  + Outils\n",
    "    - Système de contrôle de version (git, svn)\n",
    "    - Github\n",
    "  + Others\n",
    "\n",
    "* Vision par Ordinateur et Traitement d'image\n",
    "\n",
    "* D'autres ?\n",
    "\n",
    "# Part 2. Qu'est-ce que c'est la vision par ordinateur ?\n",
    "C'est un science dont le principal but est de permettre à une machine \n",
    "d'analyser, traiter et comprendre une ou plusieurs images prises par un système \n",
    "d'acquisition (la plus part du temps après une acquisition numérique).\n",
    "\n",
    "\n",
    "# Part 3. Mettre en place de son environnement.\n",
    "\n",
    " * Installer [git](https://git-scm.com/download/) \n",
    "   \n",
    " * Installation du Python\n",
    "   - Installer [Anaconda](https://www.anaconda.com/download/)\n",
    "\n",
    " * Créer un environnement Conda\n",
    " \n",
    "   ```bash\n",
    "      $> conda create -n facedetection  python=2.7 jupyter numpy  matplotlib opencv\n",
    "   ```\n",
    "\n",
    " * Activer l'environnement et lancer le ***notebook jupyter***\n",
    "\n",
    "   ```bash\n",
    "      $> source activate  facedetection\n",
    "      $> jupyter notebook\n",
    "   ```\n",
    "\n",
    "\n",
    "# Part 4. Démarrage  en python\n",
    "\n",
    "Charger une image en python"
   ]
  },
  {
   "cell_type": "code",
   "execution_count": 1,
   "metadata": {},
   "outputs": [
    {
     "name": "stdout",
     "output_type": "stream",
     "text": [
      "Populating the interactive namespace from numpy and matplotlib\n"
     ]
    }
   ],
   "source": [
    "%pylab inline"
   ]
  },
  {
   "cell_type": "code",
   "execution_count": 2,
   "metadata": {
    "collapsed": true
   },
   "outputs": [],
   "source": [
    "#import required libraries \n",
    "#import OpenCV library\n",
    "import cv2\n",
    "#import matplotlib library\n",
    "import matplotlib.pyplot as plt\n",
    "#importing time library for speed comparisons of both classifiers\n",
    "import time "
   ]
  },
  {
   "cell_type": "code",
   "execution_count": 4,
   "metadata": {},
   "outputs": [
    {
     "data": {
      "text/plain": [
       "array([[[192, 193, 184],\n",
       "        [189, 190, 181],\n",
       "        [189, 190, 181],\n",
       "        ..., \n",
       "        [244, 242, 234],\n",
       "        [242, 241, 231],\n",
       "        [238, 237, 227]],\n",
       "\n",
       "       [[189, 190, 181],\n",
       "        [189, 190, 181],\n",
       "        [190, 191, 182],\n",
       "        ..., \n",
       "        [244, 242, 234],\n",
       "        [244, 243, 233],\n",
       "        [242, 241, 231]],\n",
       "\n",
       "       [[190, 191, 182],\n",
       "        [191, 192, 183],\n",
       "        [192, 193, 184],\n",
       "        ..., \n",
       "        [244, 242, 234],\n",
       "        [245, 243, 235],\n",
       "        [245, 244, 234]],\n",
       "\n",
       "       ..., \n",
       "       [[ 48,  41,  38],\n",
       "        [ 38,  33,  32],\n",
       "        [ 21,  16,  17],\n",
       "        ..., \n",
       "        [ 90,  83,  74],\n",
       "        [ 89,  82,  73],\n",
       "        [ 88,  81,  72]],\n",
       "\n",
       "       [[ 48,  41,  38],\n",
       "        [ 37,  32,  31],\n",
       "        [ 17,  12,  13],\n",
       "        ..., \n",
       "        [ 92,  83,  74],\n",
       "        [ 90,  81,  72],\n",
       "        [ 89,  80,  71]],\n",
       "\n",
       "       [[ 48,  41,  38],\n",
       "        [ 37,  32,  31],\n",
       "        [ 14,   9,  10],\n",
       "        ..., \n",
       "        [ 99,  90,  81],\n",
       "        [ 95,  86,  77],\n",
       "        [ 92,  83,  74]]], dtype=uint8)"
      ]
     },
     "execution_count": 4,
     "metadata": {},
     "output_type": "execute_result"
    }
   ],
   "source": [
    "#load test iamge\n",
    "test1 = cv2.imread('img/facedetecImg.jpg')\n",
    "test1"
   ]
  },
  {
   "cell_type": "code",
   "execution_count": 1,
   "metadata": {},
   "outputs": [
    {
     "ename": "NameError",
     "evalue": "name 'cv2' is not defined",
     "output_type": "error",
     "traceback": [
      "\u001b[0;31m---------------------------------------------------------------------------\u001b[0m",
      "\u001b[0;31mNameError\u001b[0m                                 Traceback (most recent call last)",
      "\u001b[0;32m<ipython-input-1-57906110a250>\u001b[0m in \u001b[0;36m<module>\u001b[0;34m()\u001b[0m\n\u001b[1;32m      1\u001b[0m \u001b[0;31m#convert the test image to gray image as opencv face detector expects gray images\u001b[0m\u001b[0;34m\u001b[0m\u001b[0;34m\u001b[0m\u001b[0m\n\u001b[0;32m----> 2\u001b[0;31m \u001b[0mgray_img\u001b[0m \u001b[0;34m=\u001b[0m \u001b[0mcv2\u001b[0m\u001b[0;34m.\u001b[0m\u001b[0mcvtColor\u001b[0m\u001b[0;34m(\u001b[0m\u001b[0mtest1\u001b[0m\u001b[0;34m,\u001b[0m \u001b[0mcv2\u001b[0m\u001b[0;34m.\u001b[0m\u001b[0mCOLOR_BGR2GRAY\u001b[0m\u001b[0;34m)\u001b[0m\u001b[0;34m\u001b[0m\u001b[0m\n\u001b[0m\u001b[1;32m      3\u001b[0m \u001b[0;31m#if you have matplotlib installed then\u001b[0m\u001b[0;34m\u001b[0m\u001b[0;34m\u001b[0m\u001b[0m\n\u001b[1;32m      4\u001b[0m \u001b[0mplt\u001b[0m\u001b[0;34m.\u001b[0m\u001b[0mimshow\u001b[0m\u001b[0;34m(\u001b[0m\u001b[0mgray_img\u001b[0m\u001b[0;34m,\u001b[0m \u001b[0mcmap\u001b[0m\u001b[0;34m=\u001b[0m\u001b[0;34m'gray'\u001b[0m\u001b[0;34m)\u001b[0m\u001b[0;34m\u001b[0m\u001b[0m\n",
      "\u001b[0;31mNameError\u001b[0m: name 'cv2' is not defined"
     ]
    }
   ],
   "source": [
    "#convert the test image to gray image as opencv face detector expects gray images \n",
    "gray_img = cv2.cvtColor(test1, cv2.COLOR_BGR2GRAY)\n",
    "#if you have matplotlib installed then  \n",
    "plt.imshow(gray_img, cmap='gray')"
   ]
  },
  {
   "cell_type": "markdown",
   "metadata": {},
   "source": [
    "# Part 5. À faire\n",
    "\n",
    "Lire tutoriels de Python et d'OpenCV (ici)[http://docs.opencv.org/3.1.0/d0/de3/tutorial_py_intro.html]"
   ]
  }
 ],
 "metadata": {
  "kernelspec": {
   "display_name": "Python 2",
   "language": "python",
   "name": "python2"
  },
  "language_info": {
   "codemirror_mode": {
    "name": "ipython",
    "version": 2
   },
   "file_extension": ".py",
   "mimetype": "text/x-python",
   "name": "python",
   "nbconvert_exporter": "python",
   "pygments_lexer": "ipython2",
   "version": "2.7.13"
  }
 },
 "nbformat": 4,
 "nbformat_minor": 1
}
