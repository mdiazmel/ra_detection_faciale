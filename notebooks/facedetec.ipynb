{
 "cells": [
  {
   "cell_type": "markdown",
   "metadata": {},
   "source": [
    "Réalité augmentée et détection faciale\n",
    "==================================================\n",
    "\n",
    "\n",
    "# Part 1. Introduction\n",
    "\n",
    "* Définition du problème\n",
    "\n",
    "  ** Réalité augmentée et détection faciale **\n",
    "\n",
    "  ** Objectif: ** appliquer de filtres pour modifier un (plusieurs) visages \n",
    "  sur un flux de vidéo.\n",
    "  \n",
    "\n",
    "<img src=\"./img/faces.jpg\" />\n",
    "\n",
    "* Outils et langage de programmation :\n",
    "  \n",
    "  + Système d'exploitation\n",
    "    - Linux\n",
    "    - OsX (Mac)\n",
    "    - Windows\n",
    "  + Langage de progammation\n",
    "    - Matlab\n",
    "    - ***Pyhton***\n",
    "    - C/C++\n",
    "    - Autre\n",
    "  + Outils\n",
    "    - Système de contrôle de version (git, svn)\n",
    "    - Github\n",
    "  + Others\n",
    "\n",
    "* Vision par Ordinateur et Traitement d'image\n",
    "\n",
    "* D'autres ?\n",
    "\n",
    "# Part 2. Qu'est-ce que c'est la vision par ordinateur ?\n",
    "C'est un science dont le principal but est de permettre à une machine \n",
    "d'analyser, traiter et comprendre une ou plusieurs images prises par un système \n",
    "d'acquisition (la plus part du temps après une acquisition numérique).\n",
    "\n",
    "\n",
    "# Part 3. Mettre en place de son environnement.\n",
    "\n",
    " * Installer [git](https://git-scm.com/download/) \n",
    "   \n",
    " * Installation du Python\n",
    "   - Installer [Anaconda](https://www.anaconda.com/download/)\n",
    "\n",
    " * Créer un environnement Conda\n",
    " \n",
    "   ```bash\n",
    "      $> conda create -n facedetection  python=2.7 jupyter numpy  matplotlib opencv\n",
    "   ```\n",
    "\n",
    " * Activer l'environnement et lancer le ***notebook jupyter***\n",
    "\n",
    "   ```bash\n",
    "      $> source activate  facedetection\n",
    "      $> jupyter notebook\n",
    "   ```\n",
    "\n",
    "\n",
    "# Part 4. Démarrage  en python\n",
    "\n",
    "Charger une image en python"
   ]
  },
  {
   "cell_type": "code",
   "execution_count": null,
   "metadata": {},
   "outputs": [],
   "source": [
    "%pylab inline"
   ]
  },
  {
   "cell_type": "code",
   "execution_count": null,
   "metadata": {},
   "outputs": [],
   "source": [
    "#import required libraries \n",
    "#import OpenCV library\n",
    "import cv2\n",
    "#import matplotlib library\n",
    "import matplotlib.pyplot as plt\n",
    "#importing time library for speed comparisons of both classifiers\n",
    "import time "
   ]
  },
  {
   "cell_type": "code",
   "execution_count": null,
   "metadata": {},
   "outputs": [],
   "source": [
    "#load test iamge\n",
    "test1 = cv2.imread('img/facedetecImg.jpg')"
   ]
  },
  {
   "cell_type": "code",
   "execution_count": null,
   "metadata": {},
   "outputs": [],
   "source": [
    "#convert the test image to gray image as opencv face detector expects gray images \n",
    "gray_img = cv2.cvtColor(test1, cv2.COLOR_BGR2GRAY)\n",
    "#if you have matplotlib installed then  \n",
    "plt.imshow(gray_img, cmap='gray')"
   ]
  },
  {
   "cell_type": "markdown",
   "metadata": {},
   "source": [
    "# Part 5. À faire\n",
    "\n",
    "Lire tutoriels de Python et d'OpenCV [ici](http://docs.opencv.org/3.1.0/d0/de3/tutorial_py_intro.html)"
   ]
  }
 ],
 "metadata": {},
 "nbformat": 4,
 "nbformat_minor": 1
}
