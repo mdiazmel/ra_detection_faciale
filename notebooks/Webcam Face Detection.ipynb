{
 "cells": [
  {
   "cell_type": "code",
   "execution_count": 1,
   "metadata": {},
   "outputs": [],
   "source": [
    "%matplotlib inline\n",
    "import matplotlib.pyplot as plt\n",
    "import numpy as np\n",
    "import cv2"
   ]
  },
  {
   "cell_type": "code",
   "execution_count": 2,
   "metadata": {},
   "outputs": [
    {
     "data": {
      "image/png": "[encoded data removed]",
      "text/plain": [
       "<matplotlib.figure.Figure at 0x22348f7d358>"
      ]
     },
     "metadata": {},
     "output_type": "display_data"
    }
   ],
   "source": [
    "face_cascade = cv2.CascadeClassifier('haarcascade_frontalface_default.xml')\n",
    "eye_cascade = cv2.CascadeClassifier('haarcascade_eye.xml')\n",
    "hat = cv2.imread('hat.png')\n",
    "\n",
    "img_hat = cv2.cvtColor(hat,cv2.COLOR_BGR2GRAY)\n",
    "\n",
    "ret,img_hat = cv2.threshold(img_hat,50,255,cv2.THRESH_BINARY)\n",
    "hat_mask = img_hat\n",
    "hat_mask_inv = cv2.bitwise_not(hat_mask)\n",
    "plt.imshow(hat_mask,cmap=plt.cm.Greys_r)\n",
    "plt.imshow(hat_mask_inv,cmap=plt.cm.Greys_r)\n",
    "\n",
    "origHatHeight, origHatWidth = img_hat.shape[:2]"
   ]
  },
  {
   "cell_type": "code",
   "execution_count": 7,
   "metadata": {},
   "outputs": [],
   "source": [
    "video_capture = cv2.VideoCapture(0)\n",
    "while True:\n",
    "        ret, frame = video_capture.read()\n",
    "        gray = cv2.cvtColor(frame, cv2.COLOR_BGR2GRAY)\n",
    "        faces_data = face_cascade.detectMultiScale(gray, 1.3, 5)\n",
    "#creation des rectangles :        \n",
    "        for (xNP, yNP, wNP, hNP) in faces_data:\n",
    "            \n",
    "            face = cv2.rectangle(frame,(xNP,yNP),(xNP+wNP,yNP+hNP),(255,0,0),2)\n",
    "            #roi_color = frame[y:y+h, x:x-w]\n",
    "            hatWidth = int(1.2*wNP)\n",
    "            hatHeight = int(2/3*hNP)\n",
    "            \n",
    "            \n",
    "            x = xNP.item()\n",
    "            y = yNP.item()\n",
    "            w = wNP.item()\n",
    "            h = hNP.item()\n",
    "            x1 = x + int(w/2) - int(hatWidth/2)\n",
    "            y1 = y - hatHeight\n",
    "            x2 = x + w - int(hatWidth/4)\n",
    "            y2 = y\n",
    "            \n",
    "            # Check for clipping\n",
    "            #if x1 < 0:\n",
    "            #    x1 = 0\n",
    "            #if y1 < 0:\n",
    "            #    y1 = 0\n",
    "            #if x2 > w:\n",
    "            #    x2 = w\n",
    "            #if y2 > h:\n",
    "            #    y2 = h\n",
    "                \n",
    "            #print(x,y,w,h)  \n",
    "            #hatHeight = int(h)\n",
    "            #hatWidth = abs(x2-x1)\n",
    "            \n",
    "            \n",
    "            mask = cv2.resize(hat_mask, (hatWidth,hatHeight), interpolation = cv2.INTER_AREA)\n",
    "            mask_inv = cv2.resize(hat_mask_inv, (hatWidth,hatHeight), interpolation = cv2.INTER_AREA)\n",
    "        \n",
    "            \n",
    "            \n",
    "            roi = frame[y1:y2,x1:x2]\n",
    "            Hatimg= cv2.resize(hat, (x2-x1,y2-y1), interpolation = cv2.INTER_AREA)\n",
    "            roi_bg = cv2.bitwise_and(roi,roi,mask_inv)\n",
    "            roi_fg = cv2.bitwise_and(Hatimg,Hatimg,mask)\n",
    "            \n",
    "            dst = cv2.add(roi_bg,roi_fg)\n",
    "            frame[y1:y2,x1:x2] = dst\n",
    "            break\n",
    "            \n",
    "#            cv2.rectangle(img=frame,\n",
    "#                          pt1=(x, y),\n",
    "#                          pt2=(x + w, y + h),\n",
    "#                          color=(255, 0, 0),\n",
    "#                          thickness=2)\n",
    "\n",
    "\n",
    "\n",
    "            \n",
    "            \n",
    "#        face = frame[x:x+w,y:y+h,:]\n",
    "#        print(face[:,:,:])        \n",
    "#        face_gray = cv2.cvtColor(face,cv2.COLOR_BGR2GRAY)\n",
    "#        print(face_gray[:,:])\n",
    "#        eyes_data = eye_cascade.detectMultiScale(face_gray,1.01,2)\n",
    "\n",
    "\n",
    "#        for (x1,y1,w1,h1) in eyes_data:\n",
    "#            cv2.rectangle(img=face,\n",
    "#                          pt1=(x1,y1),\n",
    "#                          pt2=(x1+w1,y1+h1),\n",
    "#                          color=(0,255,0),\n",
    "#                          thickness=2)\n",
    "\n",
    "        # affichage\n",
    "        cv2.imshow('Face Detection using a webcam ', frame)\n",
    "\n",
    "        if cv2.waitKey(1) & 0xFF == ord('q'):\n",
    "            break\n",
    "\n",
    "video_capture.release()\n",
    "cv2.destroyAllWindows()"
   ]
  },
  {
   "cell_type": "code",
   "execution_count": 6,
   "metadata": {},
   "outputs": [],
   "source": [
    "video_capture.release()"
   ]
  },
  {
   "cell_type": "code",
   "execution_count": null,
   "metadata": {},
   "outputs": [],
   "source": []
  }
 ],
 "metadata": {
  "kernelspec": {
   "display_name": "Python 3",
   "language": "python",
   "name": "python3"
  },
  "language_info": {
   "codemirror_mode": {
    "name": "ipython",
    "version": 3
   },
   "file_extension": ".py",
   "mimetype": "text/x-python",
   "name": "python",
   "nbconvert_exporter": "python",
   "pygments_lexer": "ipython3",
   "version": "3.5.4"
  }
 },
 "nbformat": 4,
 "nbformat_minor": 2
}
